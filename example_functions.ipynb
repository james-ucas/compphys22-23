{
 "cells": [
  {
   "cell_type": "markdown",
   "metadata": {},
   "source": [
    "## Example functions\n",
    "Complete these linear algebra functions.\n",
    "\n",
    "Try to write expressive, concise code.\n",
    "\n",
    "(all of the functions can be implemented in one line of code)"
   ]
  },
  {
   "cell_type": "code",
   "execution_count": 3,
   "metadata": {},
   "outputs": [
    {
     "name": "stdout",
     "output_type": "stream",
     "text": [
      "Trying:\n",
      "    dot_product([1.0, 3.0], [-4.0, 2.0])\n",
      "Expecting:\n",
      "    2.0\n",
      "ok\n",
      "1 items had no tests:\n",
      "    __main__\n",
      "1 items passed all tests:\n",
      "   1 tests in __main__.dot_product\n",
      "1 tests in 2 items.\n",
      "1 passed and 0 failed.\n",
      "Test passed.\n"
     ]
    }
   ],
   "source": [
    "if __name__ == \"__main__\":\n",
    "    import doctest\n",
    "    doctest.testmod(verbose=True)"
   ]
  },
  {
   "cell_type": "code",
   "execution_count": null,
   "metadata": {},
   "outputs": [],
   "source": [
    "def euclidean_norm(xs: [float]) -> float:  # easy\n",
    "    \"\"\"\n",
    "    >>> euclidean_norm([3.0, 4.0])\n",
    "    5.0\n",
    "    \"\"\"\n",
    "    ..."
   ]
  },
  {
   "cell_type": "code",
   "execution_count": 2,
   "metadata": {},
   "outputs": [],
   "source": [
    "def dot_product(xs: [float], ys: [float]) -> [float]:  # easy\n",
    "    \"\"\"\n",
    "    >>> dot_product([1.0, 3.0], [-4.0, 2.0])\n",
    "    2.0\n",
    "    \"\"\"\n",
    "    ..."
   ]
  },
  {
   "cell_type": "code",
   "execution_count": null,
   "metadata": {},
   "outputs": [],
   "source": [
    "def euclidean_distance(xs: [float], ys: [float]) -> [float]:  # medium\n",
    "    \"\"\"\n",
    "    >>> euclidean_distance([0.0, 3.0], [-4.0, 0.0])\n",
    "    5.0\n",
    "    \"\"\"\n",
    "    ..."
   ]
  },
  {
   "cell_type": "code",
   "execution_count": null,
   "metadata": {},
   "outputs": [],
   "source": [
    "def outer_product(xs: [float], ys: [float]) -> [[float]]:  # medium\n",
    "    \"\"\"\n",
    "    >>> outer_product([4.0, 3.0], [-4.0, 3.0])\n",
    "    [[-16.0, 12.0], [-12.0, 9.0]]\n",
    "    \"\"\"\n",
    "    ..."
   ]
  },
  {
   "cell_type": "code",
   "execution_count": null,
   "metadata": {},
   "outputs": [],
   "source": [
    "def transpose(xss: [[float]]) -> [[float]]:  # medium-hard\n",
    "    \"\"\"\n",
    "    >>> transpose([[1.0, 2.0], [3.0, 4.0]])\n",
    "    [[1.0, 3.0], [2.0, 4.0]]\n",
    "    \"\"\"\n",
    "    ..."
   ]
  },
  {
   "cell_type": "code",
   "execution_count": null,
   "metadata": {},
   "outputs": [],
   "source": [
    "def matrix_multiply(xss: [[float]], yss: [[float]]) -> [[float]]:  # hard\n",
    "    \"\"\"\n",
    "    >>> matrix_multiply([[1.0, 2.0], [3.0, 4.0]], [[5.0, 6.0], [7.0, 8.0]])\n",
    "    [[19.0, 22.0], [43.0, 50.0]]\n",
    "    \"\"\"\n",
    "    ..."
   ]
  }
 ],
 "metadata": {
  "kernelspec": {
   "display_name": "Python 3 (ipykernel)",
   "language": "python",
   "name": "python3"
  },
  "language_info": {
   "codemirror_mode": {
    "name": "ipython",
    "version": 3
   },
   "file_extension": ".py",
   "mimetype": "text/x-python",
   "name": "python",
   "nbconvert_exporter": "python",
   "pygments_lexer": "ipython3",
   "version": "3.10.9"
  }
 },
 "nbformat": 4,
 "nbformat_minor": 1
}
