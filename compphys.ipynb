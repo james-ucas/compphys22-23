{
 "cells": [
  {
   "cell_type": "markdown",
   "id": "9e4b3f8b",
   "metadata": {},
   "source": [
    "# A simple function"
   ]
  },
  {
   "cell_type": "code",
   "execution_count": null,
   "id": "b2830ad6",
   "metadata": {},
   "outputs": [],
   "source": [
    "def factorial(n: int) -> int:  # function definition statement\n",
    "    \"\"\"\n",
    "\n",
    "    evaluates n! = n * (n - 1) * ... * 2 * 1\n",
    "    0! evaluates to 1\n",
    "\n",
    "    >>> factorial(0)\n",
    "    1\n",
    "\n",
    "    >>> factorial(10)\n",
    "    3628800\n",
    "\n",
    "    >>> factorial(-1)\n",
    "    Traceback (most recent call last):\n",
    "    ValueError: n! is undefined for n less than zero\n",
    "\n",
    "    >>> factorial(3.141)\n",
    "    Traceback (most recent call last):\n",
    "    TypeError: n is not an integer\n",
    "\n",
    "    \"\"\"\n",
    "\n",
    "    if n < 0:  # if statement\n",
    "        raise ValueError(\"n! is undefined for n less than zero\")  # raise statement\n",
    "    elif not isinstance(n, int):\n",
    "        raise TypeError(\"n is not an integer\")  # raise statement\n",
    "\n",
    "    n_factorial = 1  # assignment statement\n",
    "\n",
    "    while n > 1:  # while statement\n",
    "        n_factorial = n_factorial * n  # assignment statement\n",
    "        n = n - 1  # assignment statement\n",
    "\n",
    "    return n_factorial  # return statement\n"
   ]
  },
  {
   "cell_type": "code",
   "execution_count": null,
   "id": "757520c2",
   "metadata": {},
   "outputs": [],
   "source": [
    "factorial(\"string\")  # factorial expects an int argument"
   ]
  },
  {
   "cell_type": "code",
   "execution_count": null,
   "id": "483ea5c1",
   "metadata": {},
   "outputs": [],
   "source": [
    "x = factorial(5)\n",
    "print(x)"
   ]
  },
  {
   "cell_type": "markdown",
   "id": "db04e588",
   "metadata": {},
   "source": [
    "## Assignment statements"
   ]
  },
  {
   "cell_type": "code",
   "execution_count": null,
   "id": "256af4ae",
   "metadata": {},
   "outputs": [],
   "source": [
    "x1 = 5  # valid assignment statement\n",
    "x = 1 + 3  # valid---RHS is a valid expression\n",
    "1x = 5  # invalid name---names cannot begin with digits\n",
    "x = 1 +  # invalid---RHS is an invalid expression"
   ]
  },
  {
   "cell_type": "markdown",
   "id": "aecf2685",
   "metadata": {},
   "source": [
    "## Identifiers / names"
   ]
  },
  {
   "cell_type": "code",
   "execution_count": null,
   "id": "619cd416",
   "metadata": {},
   "outputs": [],
   "source": [
    "my_result = 1  # good variable name! (snake case)\n",
    "myresult = 1  # bad, missing underscore between words\n",
    "x = 1  # bad, not descriptive!\n",
    "number_of_atoms = 10  # better\n",
    "natoms = 10  # also ok\n",
    "\n",
    "MY_RESULT = 1  # constant, good! (upper snake case)\n",
    "MYRESULT = 1  # bad, missing underscore between words\n",
    "\n",
    "def sphere_volume(radius: float) -> float:  # function name, same rules as for variable names\n",
    "    ...\n",
    "\n",
    "class ParticleSystem: # class name (Pascal case)\n",
    "    ..."
   ]
  },
  {
   "cell_type": "markdown",
   "id": "ecceee68",
   "metadata": {},
   "source": [
    "## Expressions"
   ]
  },
  {
   "cell_type": "code",
   "execution_count": null,
   "id": "e4ffbf08",
   "metadata": {},
   "outputs": [],
   "source": [
    "1  # integer literal\n",
    "\"hello world\"  # string literal\n",
    "3.141  # float literal\n",
    "2 + 3  # valid expression\n",
    "print(4)  # valid expression\n",
    "/2, 1+, \"string  # nonsense"
   ]
  },
  {
   "cell_type": "markdown",
   "id": "ffe34b1d",
   "metadata": {},
   "source": [
    "## Numeric datatypes: int, float, complex\n",
    "### `int`: for representing integers"
   ]
  },
  {
   "cell_type": "code",
   "execution_count": null,
   "id": "15d5533a",
   "metadata": {},
   "outputs": [],
   "source": [
    "21345453464675867  # integer literal\n",
    "big_number = 2134545346467586744235424350000000000000000 + 1\n",
    "print(big_number)  # python integers have unlimited precision!\n",
    "0b1000  # binary literal\n",
    "0x1000  # hex literal\n",
    "0o1000  # oct literal\n",
    "bin(8)  # to binary string\n",
    "hex(4096)  # to hex string\n",
    "oct(512)  # to oct string"
   ]
  },
  {
   "cell_type": "markdown",
   "id": "49439f5e",
   "metadata": {},
   "source": [
    "### `float`: for representing real numbers"
   ]
  },
  {
   "cell_type": "code",
   "execution_count": null,
   "id": "d301f4ae",
   "metadata": {},
   "outputs": [],
   "source": [
    "1.023  # float literal\n",
    "23.45e-6  # also float literal\n",
    "float(10)  # get a float from another type\n",
    "small_number = 0.000000000000001\n",
    "large_number = 1000000000000000.0\n",
    "print(large_number+small_number-large_number)  # loss of precision!\n",
    "print(large_number-large_number+small_number)  # expressions are evaluated left to right, and in accordance with operator precedence\n",
    "bin(1.0)  # doesn't work! bin expects an int argument, not float"
   ]
  },
  {
   "cell_type": "markdown",
   "id": "fbda4dda",
   "metadata": {},
   "source": [
    "### `complex`: for representing complex numbers"
   ]
  },
  {
   "cell_type": "code",
   "execution_count": null,
   "id": "55460d6b",
   "metadata": {},
   "outputs": [],
   "source": [
    "1 + 2j  # complex literal\n",
    "3j  # imaginary number\n",
    "z = complex(1, 2)  # complex from a pair of other numbers\n",
    "re = z.real  # can extract real\n",
    "im = z.imag  # and imaginary parts\n",
    "print(re, im)  # floats!"
   ]
  },
  {
   "cell_type": "markdown",
   "id": "e32681ee",
   "metadata": {},
   "source": [
    "## Arithmetic operators and functions"
   ]
  },
  {
   "cell_type": "markdown",
   "id": "6a1cd5f0",
   "metadata": {},
   "source": [
    "<table class=\"docutils align-default\">\n",
    "<colgroup>\n",
    "<col style=\"width: 25%\" />\n",
    "<col style=\"width: 40%\" />\n",
    "<col style=\"width: 11%\" />\n",
    "<col style=\"width: 24%\" />\n",
    "</colgroup>\n",
    "<thead>\n",
    "<tr class=\"row-odd\"><th class=\"head\"><p>Operation</p></th>\n",
    "<th class=\"head\"><p>Result</p></th>\n",
    "<th class=\"head\"><p>Notes</p></th>\n",
    "<th class=\"head\"><p>Full documentation</p></th>\n",
    "</tr>\n",
    "</thead>\n",
    "<tbody>\n",
    "<tr class=\"row-even\"><td><p><code class=\"docutils literal notranslate\"><span class=\"pre\">x</span> <span class=\"pre\">+</span> <span class=\"pre\">y</span></code></p></td>\n",
    "<td><p>sum of <em>x</em> and <em>y</em></p></td>\n",
    "<td></td>\n",
    "<td></td>\n",
    "</tr>\n",
    "<tr class=\"row-odd\"><td><p><code class=\"docutils literal notranslate\"><span class=\"pre\">x</span> <span class=\"pre\">-</span> <span class=\"pre\">y</span></code></p></td>\n",
    "<td><p>difference of <em>x</em> and <em>y</em></p></td>\n",
    "<td></td>\n",
    "<td></td>\n",
    "</tr>\n",
    "<tr class=\"row-even\"><td><p><code class=\"docutils literal notranslate\"><span class=\"pre\">x</span> <span class=\"pre\">*</span> <span class=\"pre\">y</span></code></p></td>\n",
    "<td><p>product of <em>x</em> and <em>y</em></p></td>\n",
    "<td></td>\n",
    "<td></td>\n",
    "</tr>\n",
    "<tr class=\"row-odd\"><td><p><code class=\"docutils literal notranslate\"><span class=\"pre\">x</span> <span class=\"pre\">/</span> <span class=\"pre\">y</span></code></p></td>\n",
    "<td><p>quotient of <em>x</em> and <em>y</em></p></td>\n",
    "<td></td>\n",
    "<td></td>\n",
    "</tr>\n",
    "<tr class=\"row-even\"><td><p><code class=\"docutils literal notranslate\"><span class=\"pre\">x</span> <span class=\"pre\">//</span> <span class=\"pre\">y</span></code></p></td>\n",
    "<td><p>floored quotient of <em>x</em> and\n",
    "<em>y</em></p></td>\n",
    "<td><p>(1)</p></td>\n",
    "<td></td>\n",
    "</tr>\n",
    "<tr class=\"row-odd\"><td><p><code class=\"docutils literal notranslate\"><span class=\"pre\">x</span> <span class=\"pre\">%</span> <span class=\"pre\">y</span></code></p></td>\n",
    "<td><p>remainder of <code class=\"docutils literal notranslate\"><span class=\"pre\">x</span> <span class=\"pre\">/</span> <span class=\"pre\">y</span></code></p></td>\n",
    "<td><p>(2)</p></td>\n",
    "<td></td>\n",
    "</tr>\n",
    "<tr class=\"row-even\"><td><p><code class=\"docutils literal notranslate\"><span class=\"pre\">-x</span></code></p></td>\n",
    "<td><p><em>x</em> negated</p></td>\n",
    "<td></td>\n",
    "<td></td>\n",
    "</tr>\n",
    "<tr class=\"row-odd\"><td><p><code class=\"docutils literal notranslate\"><span class=\"pre\">+x</span></code></p></td>\n",
    "<td><p><em>x</em> unchanged</p></td>\n",
    "<td></td>\n",
    "<td></td>\n",
    "</tr>\n",
    "<tr class=\"row-even\"><td><p><code class=\"docutils literal notranslate\"><span class=\"pre\">abs(x)</span></code></p></td>\n",
    "<td><p>absolute value or magnitude of\n",
    "<em>x</em></p></td>\n",
    "<td></td>\n",
    "<td><p><a class=\"reference internal\" href=\"https://docs.python.org/3/library/functions.html#abs\" title=\"abs\"><code class=\"xref py py-func docutils literal notranslate\"><span class=\"pre\">abs()</span></code></a></p></td>\n",
    "</tr>\n",
    "<tr class=\"row-odd\"><td><p><code class=\"docutils literal notranslate\"><span class=\"pre\">int(x)</span></code></p></td>\n",
    "<td><p><em>x</em> converted to integer</p></td>\n",
    "<td><p>(3)(6)</p></td>\n",
    "<td><p><a class=\"reference internal\" href=\"https://docs.python.org/3/library/functions.html#int\" title=\"int\"><code class=\"xref py py-func docutils literal notranslate\"><span class=\"pre\">int()</span></code></a></p></td>\n",
    "</tr>\n",
    "<tr class=\"row-even\"><td><p><code class=\"docutils literal notranslate\"><span class=\"pre\">float(x)</span></code></p></td>\n",
    "<td><p><em>x</em> converted to floating point</p></td>\n",
    "<td><p>(4)(6)</p></td>\n",
    "<td><p><a class=\"reference internal\" href=\"https://docs.python.org/3/library/functions.html#float\" title=\"float\"><code class=\"xref py py-func docutils literal notranslate\"><span class=\"pre\">float()</span></code></a></p></td>\n",
    "</tr>\n",
    "<tr class=\"row-odd\"><td><p><code class=\"docutils literal notranslate\"><span class=\"pre\">complex(re,</span> <span class=\"pre\">im)</span></code></p></td>\n",
    "<td><p>a complex number with real part\n",
    "<em>re</em>, imaginary part <em>im</em>.\n",
    "<em>im</em> defaults to zero.</p></td>\n",
    "<td><p>(6)</p></td>\n",
    "<td><p><a class=\"reference internal\" href=\"https://docs.python.org/3/library/functions.html#complex\" title=\"complex\"><code class=\"xref py py-func docutils literal notranslate\"><span class=\"pre\">complex()</span></code></a></p></td>\n",
    "</tr>\n",
    "<tr class=\"row-even\"><td><p><code class=\"docutils literal notranslate\"><span class=\"pre\">c.conjugate()</span></code></p></td>\n",
    "<td><p>conjugate of the complex number\n",
    "<em>c</em></p></td>\n",
    "<td></td>\n",
    "<td></td>\n",
    "</tr>\n",
    "<tr class=\"row-odd\"><td><p><code class=\"docutils literal notranslate\"><span class=\"pre\">divmod(x,</span> <span class=\"pre\">y)</span></code></p></td>\n",
    "<td><p>the pair <code class=\"docutils literal notranslate\"><span class=\"pre\">(x</span> <span class=\"pre\">//</span> <span class=\"pre\">y,</span> <span class=\"pre\">x</span> <span class=\"pre\">%</span> <span class=\"pre\">y)</span></code></p></td>\n",
    "<td><p>(2)</p></td>\n",
    "<td><p><a class=\"reference internal\" href=\"https://docs.python.org/3/library/functions.html#divmod\" title=\"divmod\"><code class=\"xref py py-func docutils literal notranslate\"><span class=\"pre\">divmod()</span></code></a></p></td>\n",
    "</tr>\n",
    "<tr class=\"row-even\"><td><p><code class=\"docutils literal notranslate\"><span class=\"pre\">pow(x,</span> <span class=\"pre\">y)</span></code></p></td>\n",
    "<td><p><em>x</em> to the power <em>y</em></p></td>\n",
    "<td><p>(5)</p></td>\n",
    "<td><p><a class=\"reference internal\" href=\"https://docs.python.org/3/library/functions.html#pow\" title=\"pow\"><code class=\"xref py py-func docutils literal notranslate\"><span class=\"pre\">pow()</span></code></a></p></td>\n",
    "</tr>\n",
    "<tr class=\"row-odd\"><td><p><code class=\"docutils literal notranslate\"><span class=\"pre\">x</span> <span class=\"pre\">**</span> <span class=\"pre\">y</span></code></p></td>\n",
    "<td><p><em>x</em> to the power <em>y</em></p></td>\n",
    "<td><p>(5)</p></td>\n",
    "<td></td>\n",
    "</tr>\n",
    "</tbody>\n",
    "</table>"
   ]
  },
  {
   "cell_type": "code",
   "execution_count": null,
   "id": "87d0c47b",
   "metadata": {},
   "outputs": [],
   "source": [
    "1 / 2  # float division, returns a float\n",
    "1 // 2  # floor division, returns?\n",
    "1.0 // 2.0  # these examples are\n",
    "1 // 2.0  # all equivalent---the int\n",
    "1.0 // 2  # gets `promoted' to a float\n",
    "\n",
    "10 % 3  # 10 mod 5"
   ]
  },
  {
   "cell_type": "code",
   "execution_count": null,
   "id": "2e54908b",
   "metadata": {},
   "outputs": [],
   "source": [
    "int(-1)  # legal\n",
    "int(1.0-1e-5)  # legal, but maybe risky!\n",
    "\n",
    "from math import floor, ceil\n",
    "print(floor(1.0-1e-5), ceil(1.0-1e-5))  # safer!\n",
    "int(1+0j)  # TypeError! what are we supposed to do with the imaginary part?"
   ]
  },
  {
   "cell_type": "markdown",
   "id": "644fe0ab",
   "metadata": {},
   "source": [
    "## Comparison operators"
   ]
  },
  {
   "cell_type": "markdown",
   "id": "eb8cdc34",
   "metadata": {},
   "source": [
    "<table class=\"docutils align-default\">\n",
    "<colgroup>\n",
    "<col style=\"width: 32%\" />\n",
    "<col style=\"width: 68%\" />\n",
    "</colgroup>\n",
    "<thead>\n",
    "<tr class=\"row-odd\"><th class=\"head\"><p>Operation</p></th>\n",
    "<th class=\"head\"><p>Meaning</p></th>\n",
    "</tr>\n",
    "</thead>\n",
    "<tbody>\n",
    "<tr class=\"row-even\"><td><p><code class=\"docutils literal notranslate\"><span class=\"pre\">&lt;</span></code></p></td>\n",
    "<td><p>strictly less than</p></td>\n",
    "</tr>\n",
    "<tr class=\"row-odd\"><td><p><code class=\"docutils literal notranslate\"><span class=\"pre\">&lt;=</span></code></p></td>\n",
    "<td><p>less than or equal</p></td>\n",
    "</tr>\n",
    "<tr class=\"row-even\"><td><p><code class=\"docutils literal notranslate\"><span class=\"pre\">&gt;</span></code></p></td>\n",
    "<td><p>strictly greater than</p></td>\n",
    "</tr>\n",
    "<tr class=\"row-odd\"><td><p><code class=\"docutils literal notranslate\"><span class=\"pre\">&gt;=</span></code></p></td>\n",
    "<td><p>greater than or equal</p></td>\n",
    "</tr>\n",
    "<tr class=\"row-even\"><td><p><code class=\"docutils literal notranslate\"><span class=\"pre\">==</span></code></p></td>\n",
    "<td><p>equal</p></td>\n",
    "</tr>\n",
    "<tr class=\"row-odd\"><td><p><code class=\"docutils literal notranslate\"><span class=\"pre\">!=</span></code></p></td>\n",
    "<td><p>not equal</p></td>\n",
    "</tr>\n",
    "<tr class=\"row-even\"><td><p><code class=\"docutils literal notranslate\"><span class=\"pre\">is</span></code></p></td>\n",
    "<td><p>object identity</p></td>\n",
    "</tr>\n",
    "<tr class=\"row-odd\"><td><p><code class=\"docutils literal notranslate\"><span class=\"pre\">is</span> <span class=\"pre\">not</span></code></p></td>\n",
    "<td><p>negated object identity</p></td>\n",
    "</tr>\n",
    "</tbody>\n",
    "</table>"
   ]
  },
  {
   "cell_type": "code",
   "execution_count": null,
   "id": "dee45ce2",
   "metadata": {},
   "outputs": [],
   "source": [
    "# comparisons\n",
    "1 == 1  # True\n",
    "1 == 2  # False\n",
    "1 == 1.0  # True, same value\n",
    "x = 1\n",
    "y = 1\n",
    "z = 1.0\n",
    "x is y  # True, same object\n",
    "x is z  # False, different objects!"
   ]
  },
  {
   "cell_type": "markdown",
   "id": "cddea2f7",
   "metadata": {},
   "source": [
    "Comparison operations return either `True` or `False` (notice the capital \"T\" and \"F\"!)\n",
    "\n",
    "`True` or `False` are `bool` types, a subclass of the `int` type.\n",
    "\n",
    "By the way, the type of an object can be tested by passing it to the `type` function. To test whether an object is of a certain type, use the `isinstance` function."
   ]
  },
  {
   "cell_type": "code",
   "execution_count": null,
   "id": "9fde3181",
   "metadata": {},
   "outputs": [],
   "source": []
  },
  {
   "cell_type": "markdown",
   "id": "4729df82",
   "metadata": {},
   "source": [
    "## The `while` statement: indefinite iteration\n",
    "The `while` statement is one way of controlling the flow of execution of a program."
   ]
  },
  {
   "cell_type": "code",
   "execution_count": null,
   "id": "62e4c3bc",
   "metadata": {},
   "outputs": [],
   "source": [
    "while expr:\n",
    "    suite\n",
    "else:\n",
    "    termination suite\n",
    "other code"
   ]
  },
  {
   "cell_type": "code",
   "execution_count": null,
   "id": "8b806d25",
   "metadata": {},
   "outputs": [],
   "source": [
    "# sum the integers from 0 to 5\n",
    "total = 0\n",
    "value = 0\n",
    "maximum_value = 5\n",
    "\n",
    "while value <= maximum_value:\n",
    "    total = total + value\n",
    "    value = value + 1\n",
    "\n",
    "print(total)"
   ]
  },
  {
   "cell_type": "markdown",
   "id": "27503f34",
   "metadata": {},
   "source": [
    "`while` tests the truth value of `expr`, executing `suite` if `expr` is truthy, and skipping to `other code` if it is falsy.\n",
    "\n",
    "How is the truth value of an expression determined?\n",
    "***\n",
    "<ul class=\"simple\" id=\"index-3\">\n",
    "<li><p>constants defined to be false: <code class=\"docutils literal notranslate\"><span class=\"pre\">None</span></code> and <code class=\"docutils literal notranslate\"><span class=\"pre\">False</span></code>.</p></li>\n",
    "<li><p>zero of any numeric type: <code class=\"docutils literal notranslate\"><span class=\"pre\">0</span></code>, <code class=\"docutils literal notranslate\"><span class=\"pre\">0.0</span></code>, <code class=\"docutils literal notranslate\"><span class=\"pre\">0j</span></code>, <code class=\"docutils literal notranslate\"><span class=\"pre\">Decimal(0)</span></code>,\n",
    "<code class=\"docutils literal notranslate\"><span class=\"pre\">Fraction(0,</span> <span class=\"pre\">1)</span></code></p></li>\n",
    "<li><p>empty sequences and collections: <code class=\"docutils literal notranslate\"><span class=\"pre\">''</span></code>, <code class=\"docutils literal notranslate\"><span class=\"pre\">()</span></code>, <code class=\"docutils literal notranslate\"><span class=\"pre\">[]</span></code>, <code class=\"docutils literal notranslate\"><span class=\"pre\">{}</span></code>, <code class=\"docutils literal notranslate\"><span class=\"pre\">set()</span></code>,\n",
    "<code class=\"docutils literal notranslate\"><span class=\"pre\">range(0)</span></code></p></li>\n",
    "</ul>\n",
    "\n",
    "\n",
    "***\n",
    "Pretty much everything else is true."
   ]
  },
  {
   "cell_type": "code",
   "execution_count": null,
   "id": "89c8b826",
   "metadata": {},
   "outputs": [],
   "source": [
    "# which means we can do this:\n",
    "\n",
    "# ...although we probably shouldn't."
   ]
  },
  {
   "cell_type": "markdown",
   "id": "df55f9f7",
   "metadata": {},
   "source": [
    "This means potentially suprising results for the boolean operators `and`, `or`, and `not`:"
   ]
  },
  {
   "cell_type": "code",
   "execution_count": null,
   "id": "d9c71083",
   "metadata": {},
   "outputs": [],
   "source": []
  },
  {
   "cell_type": "markdown",
   "id": "387bc82a",
   "metadata": {},
   "source": [
    "## factorial\n",
    "Now you can implement the meat of the above factorial function!"
   ]
  },
  {
   "cell_type": "code",
   "execution_count": null,
   "id": "46f26724",
   "metadata": {},
   "outputs": [],
   "source": [
    "n = 5\n",
    "n_factorial = 1\n",
    "while n:\n",
    "    n_factorial = n_factorial * n\n",
    "    n = n -1\n",
    "print(n_factorial)"
   ]
  },
  {
   "cell_type": "code",
   "execution_count": null,
   "id": "e5d7438b",
   "metadata": {},
   "outputs": [],
   "source": [
    "# compute 23! - 21!"
   ]
  },
  {
   "cell_type": "markdown",
   "id": "33f9db5c",
   "metadata": {},
   "source": [
    "## Functions\n",
    "### Defining functions\n",
    "Repeating code this way is not only verbose but dangerous.\n",
    "\n",
    "It is better to write frequently-used code as *functions*."
   ]
  },
  {
   "cell_type": "code",
   "execution_count": null,
   "id": "44110da8",
   "metadata": {},
   "outputs": [],
   "source": [
    "def function_name(argument_list):  # function definition statement\n",
    "    suite  # function body\n",
    "    return return_list  # return statement, optional"
   ]
  },
  {
   "cell_type": "code",
   "execution_count": null,
   "id": "843a0aae",
   "metadata": {},
   "outputs": [],
   "source": [
    "# function to compute the square of a number"
   ]
  },
  {
   "cell_type": "code",
   "execution_count": null,
   "id": "9c878be2",
   "metadata": {},
   "outputs": [],
   "source": [
    "# function to compute the product of two numbers"
   ]
  },
  {
   "cell_type": "code",
   "execution_count": null,
   "id": "c15dd6ce",
   "metadata": {},
   "outputs": [],
   "source": [
    "# function to the norm of two numbers"
   ]
  },
  {
   "cell_type": "markdown",
   "id": "3158637e",
   "metadata": {},
   "source": [
    "### Type hints\n",
    "As long as you have the right number of arguments, python will attempt to call a function with whatever (potentially nonsense) values you supply to it."
   ]
  },
  {
   "cell_type": "code",
   "execution_count": null,
   "id": "2840ffa9",
   "metadata": {},
   "outputs": [],
   "source": [
    "# \"hello\" * \"world\" ???"
   ]
  },
  {
   "cell_type": "markdown",
   "id": "7ccb55e5",
   "metadata": {},
   "source": [
    "Type hints let other people know which types a function expects as its arguments.\n",
    "\n",
    "They also allow the IDE to give you warnings if the types don't match the hints!"
   ]
  },
  {
   "cell_type": "code",
   "execution_count": null,
   "id": "de5d873c",
   "metadata": {},
   "outputs": [],
   "source": [
    "# product, with hints"
   ]
  },
  {
   "cell_type": "markdown",
   "id": "b56fe9cc",
   "metadata": {},
   "source": [
    "## Modules\n",
    "As we write more and more functions, our code becomes difficult to understand.\n",
    "\n",
    "One way to mitigate this problem is to modularise our code, keeping similar functions in `modules`."
   ]
  },
  {
   "cell_type": "code",
   "execution_count": null,
   "id": "7538d87c",
   "metadata": {},
   "outputs": [],
   "source": [
    "# this part is a bit tricky to demonstrate in a notebook"
   ]
  },
  {
   "cell_type": "markdown",
   "id": "0f7bd391",
   "metadata": {},
   "source": [
    "## The `if` statement\n",
    "`if` statements are another way to control the flow of a program."
   ]
  },
  {
   "cell_type": "code",
   "execution_count": null,
   "id": "33da17f5",
   "metadata": {},
   "outputs": [],
   "source": [
    "if expression1:\n",
    "    suite1\n",
    "elif expression2:\n",
    "    suite2\n",
    "    ...\n",
    "elif expressionY:\n",
    "    suiteY\n",
    "else:\n",
    "    suiteZ\n",
    "other code"
   ]
  },
  {
   "cell_type": "code",
   "execution_count": null,
   "id": "33d287c4",
   "metadata": {},
   "outputs": [],
   "source": [
    "# fizz buzz"
   ]
  },
  {
   "cell_type": "markdown",
   "id": "d25d9de3",
   "metadata": {},
   "source": [
    "### `continue` and `break`\n",
    "The `continue` and `break` statements are used to implement more complex control flow in loops."
   ]
  },
  {
   "cell_type": "code",
   "execution_count": null,
   "id": "83ef7729",
   "metadata": {},
   "outputs": [],
   "source": [
    "# fizz buzz, but be choosy"
   ]
  },
  {
   "cell_type": "markdown",
   "id": "2dd60cb5",
   "metadata": {},
   "source": [
    "## Exception handling\n",
    "An exception is not a Python (syntax) error, but something that the programmer his or herself has decided is not ok: something they take exception to."
   ]
  },
  {
   "cell_type": "code",
   "execution_count": null,
   "id": "8670990b",
   "metadata": {},
   "outputs": [],
   "source": [
    "# use a raise statement to bring up an exception\n",
    "raise exception_class(\"error_message\")"
   ]
  },
  {
   "cell_type": "markdown",
   "id": "f6754b28",
   "metadata": {},
   "source": [
    "We use `raise` statements in the factorial function when the input `n` is not in the domain of the function."
   ]
  },
  {
   "cell_type": "code",
   "execution_count": null,
   "id": "3a8ab779",
   "metadata": {},
   "outputs": [],
   "source": [
    "# from the factorial function:\n",
    "\n",
    "def factorial(n: int) -> int:  # function definition statement\n",
    "    \"\"\" ... \"\"\"\n",
    "    if n < 0:  # if statement\n",
    "        raise ValueError(\"n! is undefined for n less than zero\")  # raise statement\n",
    "    elif not isinstance(n, int):\n",
    "        raise TypeError(\"n is not an integer\")  # raise statement\n",
    "        \n",
    "    n_factorial = 1  # assignment statement\n",
    "\n",
    "    while n > 1:  # while statement\n",
    "        n_factorial = n_factorial * n  # assignment statement\n",
    "        n = n - 1  # assignment statement\n",
    "\n",
    "    return n_factorial  # return statement"
   ]
  },
  {
   "cell_type": "markdown",
   "id": "878f6c3f",
   "metadata": {},
   "source": [
    "Let's disable the exceptions and see what kind of trouble we can get into."
   ]
  },
  {
   "cell_type": "code",
   "execution_count": null,
   "id": "7328e75f",
   "metadata": {},
   "outputs": [],
   "source": []
  },
  {
   "cell_type": "code",
   "execution_count": null,
   "id": "d6d94f2b",
   "metadata": {},
   "outputs": [],
   "source": []
  },
  {
   "cell_type": "markdown",
   "id": "ba6a0f88",
   "metadata": {},
   "source": [
    "## Documentation tests and docstrings\n",
    "The doctest module searches for pieces of text that look like interactive Python sessions, and then\n",
    "executes those sessions to verify that they work exactly as shown. If your tests fail, then either\n",
    "1. your docstring needs to be updated, or\n",
    "2. your code no longer works properly.\n",
    "\n",
    "Writing good documentation may seem like a hassle now, but it saves a lot of time in the long run.\n",
    "Best practice is to write a docstring and doctests before you implement your function! That way, you have\n",
    "a clear statement of how your function should behave in a variety of circumstances, and can periodically\n",
    "check your progress with the doctest module."
   ]
  },
  {
   "cell_type": "code",
   "execution_count": null,
   "id": "7edd3a77",
   "metadata": {},
   "outputs": [],
   "source": [
    "def factorial(n: int) -> int:  # function definition statement\n",
    "    \"\"\"\n",
    "\n",
    "    evaluates n! = n * (n - 1) * ... * 2 * 1\n",
    "    0! evaluates to 1\n",
    "\n",
    "    >>> factorial(0)\n",
    "    1\n",
    "\n",
    "    >>> factorial(10)\n",
    "    3628800\n",
    "\n",
    "    >>> factorial(-1)\n",
    "    Traceback (most recent call last):\n",
    "    ValueError: n! is undefined for n less than zero\n",
    "\n",
    "    >>> factorial(3.141)\n",
    "    Traceback (most recent call last):\n",
    "    TypeError: n is not an integer\n",
    "\n",
    "    \"\"\"\n",
    "\n",
    "    if n < 0:  # if statement\n",
    "        raise ValueError(\"n! is undefined for n less than zero\")  # raise statement\n",
    "    elif not isinstance(n, int):\n",
    "        raise TypeError(\"n is not an integer\")  # raise statement\n",
    "\n",
    "    n_factorial = 1  # assignment statement\n",
    "\n",
    "    while n > 1:  # while statement\n",
    "        n_factorial = n_factorial * n  # assignment statement\n",
    "        n = n - 1  # assignment statement\n",
    "\n",
    "    return n_factorial  # return statement\n",
    "\n",
    "\n",
    "if __name__ == \"__main__\":\n",
    "    doctest.testmod(verbose=True)"
   ]
  },
  {
   "cell_type": "markdown",
   "id": "30f415c5",
   "metadata": {},
   "source": [
    "You can also run doctests from the command line, or from within PyCharm."
   ]
  },
  {
   "cell_type": "markdown",
   "id": "6fe13fe9",
   "metadata": {},
   "source": [
    "## Exercise: the Collatz Conjecture\n",
    "The Collatz sequence:\n",
    "\n",
    "- $x_{n+1} = \\frac{1}{2}x_{n} $ if $x_{n}$ is even;\n",
    "- $x_{n+1} = 3x_{n}+1 $ if $x_{n}$ is odd.\n",
    "\n",
    "The Collatz conjecture:\n",
    "\n",
    "- for any $x_{0} \\in \\mathbb{Z}^{+}$, the Collatz sequence converges to 1.\n",
    "***\n",
    "Write a function that takes an initial value $x_{0}$ and returns the length of the sequence generated, *i.e.*, $n$ when $x_{n}=1$.\n",
    "\n",
    "Write a docstring with doctests you write the code, and handle bad input appropriately."
   ]
  },
  {
   "cell_type": "code",
   "execution_count": null,
   "id": "9fd90a32",
   "metadata": {},
   "outputs": [],
   "source": [
    "# Collatz sequence code"
   ]
  }
 ],
 "metadata": {
  "kernelspec": {
   "display_name": "Python 3 (ipykernel)",
   "language": "python",
   "name": "python3"
  },
  "language_info": {
   "codemirror_mode": {
    "name": "ipython",
    "version": 3
   },
   "file_extension": ".py",
   "mimetype": "text/x-python",
   "name": "python",
   "nbconvert_exporter": "python",
   "pygments_lexer": "ipython3",
   "version": "3.10.9"
  }
 },
 "nbformat": 4,
 "nbformat_minor": 5
}
