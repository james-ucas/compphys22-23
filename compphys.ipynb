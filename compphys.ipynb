{
 "cells": [
  {
   "cell_type": "markdown",
   "id": "9e4b3f8b",
   "metadata": {},
   "source": [
    "# A simple function"
   ]
  },
  {
   "cell_type": "code",
   "execution_count": 3,
   "id": "b2830ad6",
   "metadata": {},
   "outputs": [],
   "source": [
    "def factorial(n: int) -> int:  # function definition statement\n",
    "    \"\"\"\n",
    "\n",
    "    evaluates n! = n * (n - 1) * ... * 2 * 1\n",
    "    0! evaluates to 1\n",
    "\n",
    "    >>> factorial(0)\n",
    "    1\n",
    "\n",
    "    >>> factorial(10)\n",
    "    3628800\n",
    "\n",
    "    >>> factorial(-1)\n",
    "    Traceback (most recent call last):\n",
    "    ValueError: n! is undefined for n less than zero\n",
    "\n",
    "    >>> factorial(3.141)\n",
    "    Traceback (most recent call last):\n",
    "    TypeError: n is not an integer\n",
    "\n",
    "    :param n: element of the factorial sequence to be evaluated\n",
    "    :return: n!\n",
    "    \"\"\"\n",
    "\n",
    "    if n < 0:  # if statement\n",
    "        raise ValueError(\"n! is undefined for n less than zero\")  # raise statement\n",
    "    elif not isinstance(n, int):\n",
    "        raise TypeError(\"n is not an integer\")  # raise statement\n",
    "\n",
    "    n_factorial = 1  # assignment statement\n",
    "\n",
    "    while n > 1:  # while statement\n",
    "        n_factorial = n_factorial * n  # assignment statement\n",
    "        n = n - 1  # assignment statement\n",
    "\n",
    "    return n_factorial  # return statement\n"
   ]
  },
  {
   "cell_type": "code",
   "execution_count": 2,
   "id": "757520c2",
   "metadata": {},
   "outputs": [
    {
     "data": {
      "text/plain": [
       "120"
      ]
     },
     "execution_count": 2,
     "metadata": {},
     "output_type": "execute_result"
    }
   ],
   "source": [
    "factorial(5)"
   ]
  },
  {
   "cell_type": "code",
   "execution_count": null,
   "id": "483ea5c1",
   "metadata": {},
   "outputs": [],
   "source": []
  }
 ],
 "metadata": {
  "kernelspec": {
   "display_name": "Python 3 (ipykernel)",
   "language": "python",
   "name": "python3"
  },
  "language_info": {
   "codemirror_mode": {
    "name": "ipython",
    "version": 3
   },
   "file_extension": ".py",
   "mimetype": "text/x-python",
   "name": "python",
   "nbconvert_exporter": "python",
   "pygments_lexer": "ipython3",
   "version": "3.10.9"
  }
 },
 "nbformat": 4,
 "nbformat_minor": 5
}
