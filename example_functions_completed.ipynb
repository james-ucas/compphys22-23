{
 "cells": [
  {
   "cell_type": "markdown",
   "metadata": {},
   "source": [
    "## Example functions\n",
    "Complete these linear algebra functions.\n",
    "\n",
    "Try to write expressive, concise code."
   ]
  },
  {
   "cell_type": "code",
   "execution_count": 26,
   "metadata": {},
   "outputs": [],
   "source": [
    "def euclidean_norm(xs: [float]) -> float:  # easy\n",
    "    \"\"\"\n",
    "    >>> euclidean_norm([3.0, 4.0])\n",
    "    5.0\n",
    "    \"\"\"\n",
    "    return sum(x*x for x in xs)**0.5"
   ]
  },
  {
   "cell_type": "code",
   "execution_count": 27,
   "metadata": {},
   "outputs": [],
   "source": [
    "def dot_product(xs: [float], ys: [float]) -> [float]:  # easy\n",
    "    \"\"\"\n",
    "    >>> dot_product([1.0, 3.0], [-4.0, 2.0])\n",
    "    2.0\n",
    "    \"\"\"\n",
    "    return sum(x*y for x, y in zip(xs, ys))"
   ]
  },
  {
   "cell_type": "code",
   "execution_count": 28,
   "metadata": {},
   "outputs": [],
   "source": [
    "def euclidean_distance(xs: [float], ys: [float]) -> [float]:  # medium\n",
    "    \"\"\"\n",
    "    >>> euclidean_distance([0.0, 3.0], [-4.0, 0.0])\n",
    "    5.0\n",
    "    \"\"\"\n",
    "    return sum((x-y)*(x-y) for x,y in zip(xs, ys))**0.5"
   ]
  },
  {
   "cell_type": "code",
   "execution_count": 29,
   "metadata": {},
   "outputs": [],
   "source": [
    "def outer_product(xs: [float], ys: [float]) -> [[float]]:  # medium\n",
    "    \"\"\"\n",
    "    >>> outer_product([4.0, 3.0], [-4.0, 3.0])\n",
    "    [[-16.0, 12.0], [-12.0, 9.0]]\n",
    "    \"\"\"\n",
    "    return [[x*y for y in ys] for x in xs]"
   ]
  },
  {
   "cell_type": "code",
   "execution_count": 30,
   "metadata": {},
   "outputs": [],
   "source": [
    "def transpose(xss: [[float]]) -> [[float]]:  # medium-hard\n",
    "    \"\"\"\n",
    "    >>> transpose([[1.0, 2.0], [3.0, 4.0]])\n",
    "    [[1.0, 3.0], [2.0, 4.0]]\n",
    "    \"\"\"\n",
    "    return [[x for x in xs] for xs in zip(*xss)]"
   ]
  },
  {
   "cell_type": "code",
   "execution_count": 31,
   "metadata": {},
   "outputs": [],
   "source": [
    "def matrix_multiply(xss: [[float]], yss: [[float]]) -> [[float]]:  # hard\n",
    "    \"\"\"\n",
    "    >>> matrix_multiply([[1.0, 2.0], [3.0, 4.0]], [[5.0, 6.0], [7.0, 8.0]])\n",
    "    [[19.0, 22.0], [43.0, 50.0]]\n",
    "    \"\"\"\n",
    "    return [\n",
    "        [\n",
    "            sum(\n",
    "                x*y for (x,y) in zip(xs, ys)\n",
    "            ) for ys in transpose(yss)\n",
    "        ] for xs in xss\n",
    "    ]"
   ]
  },
  {
   "cell_type": "code",
   "execution_count": 1,
   "metadata": {},
   "outputs": [
    {
     "name": "stdout",
     "output_type": "stream",
     "text": [
      "1 items had no tests:\n",
      "    __main__\n",
      "0 tests in 1 items.\n",
      "0 passed and 0 failed.\n",
      "Test passed.\n"
     ]
    }
   ],
   "source": [
    "if __name__ == \"__main__\":\n",
    "    import doctest\n",
    "    doctest.testmod(verbose=True)"
   ]
  },
  {
   "cell_type": "code",
   "execution_count": null,
   "outputs": [],
   "source": [],
   "metadata": {
    "collapsed": false
   }
  }
 ],
 "metadata": {
  "kernelspec": {
   "display_name": "Python 3 (ipykernel)",
   "language": "python",
   "name": "python3"
  },
  "language_info": {
   "codemirror_mode": {
    "name": "ipython",
    "version": 3
   },
   "file_extension": ".py",
   "mimetype": "text/x-python",
   "name": "python",
   "nbconvert_exporter": "python",
   "pygments_lexer": "ipython3",
   "version": "3.10.9"
  }
 },
 "nbformat": 4,
 "nbformat_minor": 1
}
